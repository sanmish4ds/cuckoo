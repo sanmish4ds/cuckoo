{
  "nbformat": 4,
  "nbformat_minor": 0,
  "metadata": {
    "colab": {
      "name": "chatbot_math.ipynb",
      "provenance": [],
      "authorship_tag": "ABX9TyP6i26nJ6fpGb/5WjX8Yhzv",
      "include_colab_link": true
    },
    "kernelspec": {
      "name": "python3",
      "display_name": "Python 3"
    }
  },
  "cells": [
    {
      "cell_type": "markdown",
      "metadata": {
        "id": "view-in-github",
        "colab_type": "text"
      },
      "source": [
        "<a href=\"https://colab.research.google.com/github/sanmish4ds/cuckoo/blob/master/chatbot_math.ipynb\" target=\"_parent\"><img src=\"https://colab.research.google.com/assets/colab-badge.svg\" alt=\"Open In Colab\"/></a>"
      ]
    },
    {
      "cell_type": "code",
      "metadata": {
        "id": "lnLv5UXyY4Ph",
        "colab_type": "code",
        "colab": {}
      },
      "source": [
        "import nltk"
      ],
      "execution_count": 0,
      "outputs": []
    },
    {
      "cell_type": "code",
      "metadata": {
        "id": "mGF7goVcZv02",
        "colab_type": "code",
        "colab": {
          "base_uri": "https://localhost:8080/",
          "height": 104
        },
        "outputId": "69dbf202-09c9-41b4-ec7f-5c11d0888172"
      },
      "source": [
        "nltk.download('punkt') \n",
        "nltk.download('wordnet')"
      ],
      "execution_count": 7,
      "outputs": [
        {
          "output_type": "stream",
          "text": [
            "[nltk_data] Downloading package punkt to /root/nltk_data...\n",
            "[nltk_data]   Unzipping tokenizers/punkt.zip.\n",
            "[nltk_data] Downloading package wordnet to /root/nltk_data...\n",
            "[nltk_data]   Unzipping corpora/wordnet.zip.\n"
          ],
          "name": "stdout"
        },
        {
          "output_type": "execute_result",
          "data": {
            "text/plain": [
              "True"
            ]
          },
          "metadata": {
            "tags": []
          },
          "execution_count": 7
        }
      ]
    },
    {
      "cell_type": "code",
      "metadata": {
        "id": "-zOCjmCHmuNG",
        "colab_type": "code",
        "colab": {
          "base_uri": "https://localhost:8080/",
          "height": 297
        },
        "outputId": "fa06abf4-5eac-4ead-ad9d-8cc43423bab7"
      },
      "source": [
        "pip install wikipedia"
      ],
      "execution_count": 23,
      "outputs": [
        {
          "output_type": "stream",
          "text": [
            "Collecting wikipedia\n",
            "  Downloading https://files.pythonhosted.org/packages/67/35/25e68fbc99e672127cc6fbb14b8ec1ba3dfef035bf1e4c90f78f24a80b7d/wikipedia-1.4.0.tar.gz\n",
            "Requirement already satisfied: beautifulsoup4 in /usr/local/lib/python3.6/dist-packages (from wikipedia) (4.6.3)\n",
            "Requirement already satisfied: requests<3.0.0,>=2.0.0 in /usr/local/lib/python3.6/dist-packages (from wikipedia) (2.23.0)\n",
            "Requirement already satisfied: chardet<4,>=3.0.2 in /usr/local/lib/python3.6/dist-packages (from requests<3.0.0,>=2.0.0->wikipedia) (3.0.4)\n",
            "Requirement already satisfied: urllib3!=1.25.0,!=1.25.1,<1.26,>=1.21.1 in /usr/local/lib/python3.6/dist-packages (from requests<3.0.0,>=2.0.0->wikipedia) (1.24.3)\n",
            "Requirement already satisfied: certifi>=2017.4.17 in /usr/local/lib/python3.6/dist-packages (from requests<3.0.0,>=2.0.0->wikipedia) (2020.4.5.1)\n",
            "Requirement already satisfied: idna<3,>=2.5 in /usr/local/lib/python3.6/dist-packages (from requests<3.0.0,>=2.0.0->wikipedia) (2.9)\n",
            "Building wheels for collected packages: wikipedia\n",
            "  Building wheel for wikipedia (setup.py) ... \u001b[?25l\u001b[?25hdone\n",
            "  Created wheel for wikipedia: filename=wikipedia-1.4.0-cp36-none-any.whl size=11686 sha256=48693d99e235eaf70b2d38330ac4086e9f92049bd1e38de4323c23d716f026d0\n",
            "  Stored in directory: /root/.cache/pip/wheels/87/2a/18/4e471fd96d12114d16fe4a446d00c3b38fb9efcb744bd31f4a\n",
            "Successfully built wikipedia\n",
            "Installing collected packages: wikipedia\n",
            "Successfully installed wikipedia-1.4.0\n"
          ],
          "name": "stdout"
        }
      ]
    },
    {
      "cell_type": "code",
      "metadata": {
        "id": "uKDjPf1PZa7E",
        "colab_type": "code",
        "colab": {}
      },
      "source": [
        "import random\n",
        "import string\n",
        "import re, string, unicodedata\n",
        "from nltk.corpus import wordnet as wn\n",
        "from nltk.stem.wordnet import WordNetLemmatizer\n",
        "import wikipedia as wk\n",
        "from collections import defaultdict\n",
        "import warnings\n",
        "warnings.filterwarnings(\"ignore\")\n",
        "from sklearn.feature_extraction.text import TfidfVectorizer\n",
        "from sklearn.metrics.pairwise import cosine_similarity, linear_kernel"
      ],
      "execution_count": 0,
      "outputs": []
    },
    {
      "cell_type": "code",
      "metadata": {
        "id": "VRkcAjXjdyfI",
        "colab_type": "code",
        "colab": {
          "base_uri": "https://localhost:8080/",
          "height": 55
        },
        "outputId": "8d77e66c-1f06-4b72-a8c8-068cd3a15e0e"
      },
      "source": [
        "data=open('/content/real_number.txt',mode='r',errors=None)\n",
        "raw=data.read().lower()\n",
        "raw[:1000]"
      ],
      "execution_count": 9,
      "outputs": [
        {
          "output_type": "execute_result",
          "data": {
            "text/plain": [
              "'real numbers 1\\n1\\n1.1 introduction\\nin class ix, you began your exploration of the world of real numbers and encountered\\nirrational numbers. we continue our discussion on real numbers in this chapter. we\\nbegin with two very important properties of positive integers in sections 1.2 and 1.3,\\nnamely the euclid’s division algorithm and the fundamental theorem of arithmetic.\\neuclid’s division algorithm, as the name suggests, has to do with divisibility of\\nintegers. stated simply, it says any positive integer a can be divided by another positive\\ninteger b in such a way that it leaves a remainder r that is smaller than b. many of you\\nprobably recognise this as the usual long division process. although this result is quite\\neasy to state and understand, it has many applications related to the divisibility properties\\nof integers. we touch upon a few of them, and use it mainly to compute the hcf of\\ntwo positive integers.\\nthe fundamental theorem of arithmetic, on the other hand, has to do something\\n'"
            ]
          },
          "metadata": {
            "tags": []
          },
          "execution_count": 9
        }
      ]
    },
    {
      "cell_type": "code",
      "metadata": {
        "id": "ULgeXPZRjEmF",
        "colab_type": "code",
        "colab": {}
      },
      "source": [
        "sent_tokens = nltk.sent_tokenize(raw)\n",
        "word_token = nltk.word_tokenize(raw)"
      ],
      "execution_count": 0,
      "outputs": []
    },
    {
      "cell_type": "code",
      "metadata": {
        "id": "Q_AxqFc7j7lO",
        "colab_type": "code",
        "colab": {
          "base_uri": "https://localhost:8080/",
          "height": 55
        },
        "outputId": "1319f21e-c11d-4377-915a-4faa91e694ae"
      },
      "source": [
        ""
      ],
      "execution_count": 19,
      "outputs": [
        {
          "output_type": "execute_result",
          "data": {
            "text/plain": [
              "'real numbers 1\\n1\\n11 introduction\\nin class ix you began your exploration of the world of real numbers and encountered\\nirrational numbers we continue our discussion on real numbers in this chapter we\\nbegin with two very important properties of positive integers in sections 12 and 13\\nnamely the euclid’s division algorithm and the fundamental theorem of arithmetic\\neuclid’s division algorithm as the name suggests has to do with divisibility of\\nintegers stated simply it says any positive integer a can be divided by another positive\\ninteger b in such a way that it leaves a remainder r that is smaller than b many of you\\nprobably recognise this as the usual long division process although this result is quite\\neasy to state and understand it has many applications related to the divisibility properties\\nof integers we touch upon a few of them and use it mainly to compute the hcf of\\ntwo positive integers\\nthe fundamental theorem of arithmetic on the other hand has to do something\\nwith multiplication of positive integers you already know that every composite number\\ncan be expressed as a product of primes in a unique way—this important fact is the\\nfundamental theorem of arithmetic again while it is a result that is easy to state and\\nunderstand it has some very deep and significant applications in the field of mathematics\\nwe use the fundamental theorem of arithmetic for two main applications first we\\nuse it to prove the irrationality of many of the numbers you studied in class ix such as\\n2  3 and 5  second we apply this theorem to explore when exactly the decimal\\nexpansion of a rational number say  0 p\\nq\\nq\\n≠  is terminating and when it is nonterminating repeating we do so by looking at the prime factorisation of the denominator\\nq of p\\nq\\n you will see that the prime factorisation of q will completely reveal the nature\\nof the decimal expansion of p\\nq\\n\\nso let us begin our exploration\\nreal numbers\\n201920\\n2 mathematics\\n12 euclid’s division lemma\\nconsider the following folk puzzle\\na trader was moving along a road selling eggs an idler who didn’t have\\nmuch work to do started to get the trader into a wordy duel this grew into a\\nfight he pulled the basket with eggs and dashed it on the floor the eggs broke\\nthe trader requested the panchayat to ask the idler to pay for the broken eggs\\nthe panchayat asked the trader how many eggs were broken he gave the\\nfollowing response\\nif counted in pairs one will remain\\nif counted in threes two will remain\\nif counted in fours three will remain\\nif counted in fives four will remain\\nif counted in sixes five will remain\\nif counted in sevens nothing will remain\\nmy basket cannot accomodate more than 150 eggs\\nso how many eggs were there let us try and solve the puzzle let the number\\nof eggs be a then working backwards we see that a is less than or equal to 150\\nif counted in sevens nothing will remain which translates to a  7p  0 for\\nsome natural number p if counted in sixes a  6 q 5 for some natural number q\\nif counted in fives four will remain it translates to a  5w  4 for some natural\\nnumber w\\nif counted in fours three will remain it translates to a  4s  3 for some natural\\nnumber s\\nif counted in threes two will remain it translates to a  3t  2 for some natural\\nnumber t\\nif counted in pairs one will remain it translates to a  2u  1 for some natural\\nnumber u\\nthat is in each case we have a and a positive integer b in our example\\nb takes values 7 6 5 4 3 and 2 respectively which divides a and leaves a remainder\\nr in our case r is 0 5 4 3 2 and 1 respectively that is smaller than b the\\n this is modified form of a puzzle given in ‘numeracy counts’ by a rampal and others\\n201920\\nreal numbers 3\\nmoment we write down such equations we are using euclid’s division lemma\\nwhich is given in theorem 11\\ngetting back to our puzzle do you have any idea how you will solve it yes you\\nmust look for the multiples of 7 which satisfy all the conditions by trial and error\\nusing the concept of lcm you will find he had 119 eggs\\nin order to get a feel for what euclid’s division lemma is consider the following\\npairs of integers\\n17 6 5 12 20 4\\nlike we did in the example we can write the following relations for each such\\npair\\n17  6 × 2  5 6 goes into 17 twice and leaves a remainder 5\\n5  12 × 0  5 this relation holds since 12 is larger than 5\\n20  4 × 5  0 here 4 goes into 20 fivetimes and leaves no remainder\\nthat is for each pair of positive integers a and b we have found whole numbers\\nq and r satisfying the relation\\na  bq  r 0 ≤ r  b\\nnote that q or r can also be zero\\nwhy don’t you now try finding integers q and r for the following pairs of positive\\nintegers a and b\\ni 10 3 ii 4 19 iii 81 3\\ndid you notice that q and r are unique these are the only integers satisfying the\\nconditions a  bq  r where 0 ≤ r  b you may have also realised that this is nothing\\nbut a restatement of the long division process you have been doing all these years and\\nthat the integers q and r are called the quotient and remainder respectively\\na formal statement of this result is as follows \\ntheorem 11 euclid’s division lemma  given positive integers a and b\\nthere exist unique integers q and r satisfying a  bq  r 0 ≤ r  b\\nthis result was perhaps known for a long time but was first recorded in book vii\\nof euclid’s elements euclid’s division algorithm is based on this lemma\\n201920\\n4 mathematics\\nan algorithm is a series of well defined steps\\nwhich gives a procedure for solving a type of\\nproblem\\nthe word algorithm comes from the name\\nof the 9th century persian mathematician\\nalkhwarizmi in fact even the word ‘algebra’\\nis derived from a book he wrote called hisab\\naljabr w’almuqabala\\na lemma is a proven statement used for\\nproving another statement\\neuclid’s division algorithm is a technique to compute the highest common factor\\nhcf of two given positive integers recall that the hcf of two positive integers a\\nand b is the largest positive integer d that divides both a and b\\nlet us see how the algorithm works through an example first suppose we need\\nto find the hcf of the integers 455 and 42 we start with the larger integer that is\\n455 then we use euclid’s lemma to get\\n455  42 × 10  35\\nnow consider the divisor 42 and the remainder 35 and apply the division lemma\\nto get\\n42  35 × 1  7\\nnow consider the divisor 35 and the remainder 7 and apply the division lemma\\nto get\\n35  7 × 5  0\\nnotice that the remainder has become zero and we cannot proceed any further\\nwe claim that the hcf of 455 and 42 is the divisor at this stage ie 7 you can easily\\nverify this by listing all the factors of 455 and 42 why does this method work it\\nworks because of the following result\\nso let us state euclid’s division algorithm clearly\\nto obtain the hcf of two positive integers say c and d with c  d follow\\nthe steps below\\nstep 1  apply euclid’s division lemma to c and d so we find whole numbers q and\\nr such that c  dq  r 0 ≤ r  d\\nstep 2  if r  0 d is the hcf of c and d if r ≠ 0 apply the division lemma to d and r\\nstep 3  continue the process till the remainder is zero the divisor at this stage will\\nbe the required hcf\\nmuhammad ibn musa alkhwarizmi\\nce 780 – 850\\n201920\\nreal numbers 5\\nthis algorithm works because hcf c d  hcf d r where the symbol\\nhcf c d denotes the hcf of c and d etc\\nexample 1  use euclid’s algorithm to find the hcf of 4052 and 12576\\nsolution \\nstep 1  since 12576  4052 we apply the division lemma to 12576 and 4052 to get\\n12576  4052 × 3  420\\nstep 2  since the remainder 420 ≠ 0 we apply the division lemma to 4052 and 420 to\\nget\\n4052  420 × 9  272\\nstep 3  we consider the new divisor 420 and the new remainder 272 and apply the\\ndivision lemma to get\\n420  272 × 1  148\\nwe consider the new divisor 272 and the new remainder 148 and apply the division\\nlemma to get\\n272  148 × 1  124\\nwe consider the new divisor 148 and the new remainder 124 and apply the division\\nlemma to get\\n148  124 × 1  24\\nwe consider the new divisor 124 and the new remainder 24 and apply the division\\nlemma to get\\n124  24 × 5  4\\nwe consider the new divisor 24 and the new remainder 4 and apply the division\\nlemma to get\\n24  4 × 6  0\\nthe remainder has now become zero so our procedure stops since the divisor at this\\nstage is 4 the hcf of 12576 and 4052 is 4\\nnotice that 4  hcf 24 4  hcf 124 24  hcf 148 124 \\nhcf 272 148  hcf 420 272  hcf 4052 420  hcf 12576 4052\\neuclid’s division algorithm is not only useful for calculating the hcf of very\\nlarge numbers but also because it is one of the earliest examples of an algorithm that\\na computer had been programmed to carry out\\nremarks \\n1 euclid’s division lemma and algorithm are so closely interlinked that people often\\ncall former as the division algorithm also\\n2 although euclid’s division algorithm is stated for only positive integers it can be\\nextended for all integers except zero ie b ≠ 0 however we shall not discuss this\\naspect here\\n201920\\n6 mathematics\\neuclid’s division lemmaalgorithm has several applications related to finding\\nproperties of numbers we give some examples of these applications below\\nexample 2  show that every positive even integer is of the form 2q and that every\\npositive odd integer is of the form 2q  1 where q is some integer\\nsolution  let a be any positive integer and b  2 then by euclid’s algorithm\\na  2q  r for some integer q ≥ 0 and r  0 or r  1 because 0 ≤ r  2 so\\na  2q or 2q  1\\nif a is of the form 2q then a is an even integer also a positive integer can be\\neither even or odd therefore any positive odd integer is of the form 2q  1\\nexample 3  show that any positive odd integer is of the form 4q  1 or 4q  3 where\\nq is some integer\\nsolution  let us start with taking a where a is a positive odd integer we apply the\\ndivision algorithm with a and b  4\\nsince 0 ≤ r  4 the possible remainders are 0 1 2 and 3\\nthat is a can be 4q or 4q  1 or 4q  2 or 4q  3 where q is the quotient\\nhowever since a is odd a cannot be 4q or 4q  2 since they are both divisible by 2\\ntherefore any odd integer is of the form 4q  1 or 4q  3\\nexample 4  a sweetseller has 420 kaju barfis and 130 badam barfis she wants to\\nstack them in such a way that each stack has the same number and they take up the\\nleast area of the tray what is the number of that can be placed in each stack for this\\npurpose\\nsolution  this can be done by trial and error but to do it systematically we find\\nhcf 420 130 then this number will give the maximum number of barfis in each\\nstack and the number of stacks will then be the least the area of the tray that is used\\nup will be the least\\nnow let us use euclid’s algorithm to find their hcf we have \\n420  130 × 3  30\\n130  30 × 4  10\\n30  10 × 3  0\\nso the hcf of 420 and 130 is 10\\ntherefore the sweetseller can make stacks of 10 for both kinds of barfi\\n201920\\nreal numbers 7\\nexercise 11\\n1 use euclid’s division algorithm to find the hcf of \\ni 135 and 225 ii 196 and 38220 iii 867 and 255\\n2 show that any positive odd integer is of the form 6q  1 or 6q  3 or 6q  5 where q is\\nsome integer\\n3 an army contingent of 616 members is to march behind an army band of 32 members in\\na parade the two groups are to march in the same number of columns what is the\\nmaximum number of columns in which they can march\\n4 use euclid’s division lemma to show that the square of any positive integer is either of\\nthe form 3m or 3m  1 for some integer m\\nhint  let x be any positive integer then it is of the form 3q 3q  1 or 3q  2 now square\\neach of these and show that they can be rewritten in the form 3m or 3m  1\\n5 use euclid’s division lemma to show that the cube of any positive integer is of the form\\n9m 9m  1 or 9m  8\\n13 the fundamental theorem of arithmetic\\nin your earlier classes you have seen that any natural number can be written as a\\nproduct of its prime factors for instance 2  2 4  2 × 2 253  11 × 23 and so on\\nnow let us try and look at natural numbers from the other direction that is can any\\nnatural number be obtained by multiplying prime numbers let us see\\ntake any collection of prime numbers say 2 3 7 11 and 23 if we multiply\\nsome or all of these numbers allowing them to repeat as many times as we wish\\nwe can produce a large collection of positive integers in fact infinitely many\\nlet us list a few \\n7 × 11 × 23  1771 3 × 7 × 11 × 23  5313\\n2 × 3 × 7 × 11 × 23  10626 2\\n3\\n × 3 × 73\\n  8232\\n2\\n2\\n × 3 × 7 × 11 × 23  21252\\nand so on\\nnow let us suppose your collection of primes includes all the possible primes\\nwhat is your guess about the size of this collection does it contain only a finite\\nnumber of integers or infinitely many infact there are infinitely many primes so if\\nwe combine all these primes in all possible ways we will get an infinite collection of\\nnumbers all the primes and all possible products of primes the question is – can we\\nproduce all the composite numbers this way what do you think do you think that\\nthere may be a composite number which is not the product of powers of primes\\nbefore we answer this let us factorise positive integers that is do the opposite of\\nwhat we have done so far\\n201920\\n8 mathematics\\nwe are going to use the factor tree with which you are all familiar let us take\\nsome large number say 32760 and factorise it as shown \\nso we have factorised 32760 as 2 × 2 × 2 × 3 × 3 × 5 × 7 × 13 as a product of\\nprimes ie 32760  23\\n × 32\\n × 5 × 7 × 13 as a product of powers of primes let us try\\nanother number say 123456789 this can be written as 32\\n × 3803 × 3607 of course\\nyou have to check that 3803 and 3607 are primes try it out for several other natural\\nnumbers yourself this leads us to a conjecture that every composite number can be\\nwritten as the product of powers of primes in fact this statement is true and is called\\nthe fundamental theorem of arithmetic because of its basic crucial importance\\nto the study of integers let us now formally state this theorem\\ntheorem 12 fundamental theorem of arithmetic  every composite number\\ncan be expressed  factorised as a product of primes and this factorisation is\\nunique apart from the order in which the prime factors occur\\n201920\\nreal numbers 9\\nan equivalent version of theorem 12 was probably first\\nrecorded as proposition 14 of book ix in euclid’s\\nelements before it came to be known as the fundamental\\ntheorem of arithmetic however the first correct proof\\nwas given by carl friedrich gauss in his disquisitiones\\narithmeticae\\ncarl friedrich gauss is often referred to as the ‘prince of\\nmathematicians’ and is considered one of the three\\ngreatest mathematicians of all time along with archimedes\\nand newton he has made fundamental contributions to\\nboth mathematics and science\\nthe fundamental theorem of arithmetic says that every composite number\\ncan be factorised as a product of primes actually it says more it says that given\\nany composite number it can be factorised as a product of prime numbers in a\\n‘unique’ way except for the order in which the primes occur that is given any\\ncomposite number there is one and only one way to write it as a product of primes\\nas long as we are not particular about the order in which the primes occur so for\\nexample we regard 2 × 3 × 5 × 7 as the same as 3 × 5 × 7 × 2 or any other\\npossible order in which these primes are written this fact is also stated in the\\nfollowing form\\nthe prime factorisation of a natural number is unique except for the order\\nof its factors\\nin general given a composite number x we factorise it as x  p1\\np2\\n  pn\\n where\\np1\\n p2\\n pn\\nare primes and written in ascending order ie p1\\n≤ p2\\n≤    ≤ pn\\n if we combine the same primes we will get powers of primes for example\\n32760  2 × 2 × 2 × 3 × 3 × 5 × 7 × 13  23\\n × 32\\n × 5 × 7 × 13\\nonce we have decided that the order will be ascending then the way the number\\nis factorised is unique\\nthe fundamental theorem of arithmetic has many applications both within\\nmathematics and in other fields let us look at some examples\\nexample 5  consider the numbers 4n\\n where n is a natural number check whether\\nthere is any value of n for which 4n\\n ends with the digit zero\\nsolution  if the number 4n\\n for any n were to end with the digit zero then it would be\\ndivisible by 5 that is the prime factorisation of 4n\\n would contain the prime 5 this is\\ncarl friedrich gauss\\n1777 – 1855\\n201920\\n10 mathematics\\nnot possible because 4n\\n  22n\\n so the only prime in the factorisation of 4n\\n is 2 so the\\nuniqueness of the fundamental theorem of arithmetic guarantees that there are no\\nother primes in the factorisation of 4n\\n so there is no natural number n for which 4n\\nends with the digit zero\\nyou have already learnt how to find the hcf and lcm of two positive integers\\nusing the fundamental theorem of arithmetic in earlier classes without realising it\\nthis method is also called the prime factorisation method let us recall this method\\nthrough an example\\nexample 6  find the lcm and hcf of 6 and 20 by the prime factorisation method\\nsolution  we have  6  21\\n × 31 and 20  2 × 2 × 5  22\\n × 51\\n\\nyou can find hcf6 20  2 and lcm6 20  2 × 2 × 3 × 5  60 as done in your\\nearlier classes\\nnote that hcf6 20  21\\n  product of the smallest power of each common\\nprime factor in the numbers\\nlcm 6 20  22\\n × 31\\n × 51\\n  product of the greatest power of each prime factor\\ninvolved in the numbers\\nfrom the example above you might have noticed that hcf6 20 × lcm6 20\\n 6 × 20 in fact we can verify that for any two positive integers a and b\\nhcf a b × lcm a b  a × b we can use this result to find the lcm of two\\npositive integers if we have already found the hcf of the two positive integers\\nexample 7  find the hcf of 96 and 404 by the prime factorisation method hence\\nfind their lcm\\nsolution  the prime factorisation of 96 and 404 gives \\n96  25\\n × 3 404  22\\n × 101\\ntherefore the hcf of these two integers is 22\\n  4\\nalso lcm 96 404  96 404 96 404 9696\\nhcf96 404 4\\n× ×\\n \\nexample 8  find the hcf and lcm of 6 72 and 120 using the prime factorisation\\nmethod\\nsolution  we have \\n6  2 × 3 72  23\\n × 32\\n 120  23\\n × 3 × 5\\nhere 21\\n and 31\\n are the smallest powers of the common factors 2 and 3 respectively\\n201920\\nreal numbers 11\\nso hcf 6 72 120  2\\n1\\n × 31\\n  2 × 3  6\\n2\\n3\\n 32\\n and 51\\n are the greatest powers of the prime factors 2 3 and 5 respectively\\ninvolved in the three numbers\\nso lcm 6 72 120  2\\n3 × 32\\n × 51\\n  360\\nremark  notice 6 × 72 × 120 ≠ hcf 6 72 120 × lcm 6 72 120 so the\\nproduct of three numbers is not equal to the product of their hcf and lcm\\nexercise 12\\n1 express each number as a product of its prime factors\\ni 140 ii 156 iii 3825 iv 5005 v 7429\\n2 find the lcm and hcf of the following pairs of integers and verify that lcm × hcf \\nproduct of the two numbers\\ni 26 and 91 ii 510 and 92 iii 336 and 54\\n3 find the lcm and hcf of the following integers by applying the prime factorisation\\nmethod\\ni 12 15 and 21 ii 17 23 and 29 iii 8 9 and 25\\n4 given that hcf 306 657  9 find lcm 306 657\\n5 check whether 6n\\n can end with the digit 0 for any natural number n\\n6 explain why 7 × 11 × 13  13 and 7 × 6 × 5 × 4 × 3 × 2 × 1  5 are composite numbers\\n7 there is a circular path around a sports field sonia takes 18 minutes to drive one round\\nof the field while ravi takes 12 minutes for the same suppose they both start at the\\nsame point and at the same time and go in the same direction after how many minutes\\nwill they meet again at the starting point\\n14 revisiting irrational numbers\\nin class ix you were introduced to irrational numbers and many of their properties\\nyou studied about their existence and how the rationals and the irrationals together\\nmade up the real numbers you even studied how to locate irrationals on the number\\nline however we did not prove that they were irrationals in this section we will\\nprove that 2  3  5 and in general p is irrational where p is a prime one of\\nthe theorems we use in our proof is the fundamental theorem of arithmetic\\nrecall a number ‘s’ is called irrational if it cannot be written in the form \\np\\nq\\nwhere p and q are integers and q ≠ 0 some examples of irrational numbers with\\n201920\\n12 mathematics\\nwhich you are already familiar are \\n2\\n2 3 15   010110111011110    \\n3\\nπ −  etc\\nbefore we prove that 2 is irrational we need the following theorem whose\\nproof is based on the fundamental theorem of arithmetic\\ntheorem 13  let p be a prime number if p divides a2\\n then p divides a where\\na is a positive integer\\nproof  let the prime factorisation of a be as follows \\na  p1\\np2\\n    pn\\n where p1\\np2\\n    pn\\n are primes not necessarily distinct\\ntherefore a\\n2\\n   p1\\np2\\n    pn\\n p1\\np2\\n    pn\\n  p\\n2\\n1\\np\\n2\\n2\\n    p\\n2\\nn\\n\\nnow we are given that p divides a\\n2\\n therefore from the fundamental theorem of\\narithmetic it follows that p is one of the prime factors of a\\n2\\n however using the\\nuniqueness part of the fundamental theorem of arithmetic we realise that the only\\nprime factors of a\\n2\\n are p1\\n p2\\n    pn\\n so p is one of p1\\n p2\\n    pn\\n\\nnow since a  p1\\np2\\n    pn\\n p divides a\\nwe are now ready to give a proof that 2 is irrational\\nthe proof is based on a technique called ‘proof by contradiction’ this technique is\\ndiscussed in some detail in appendix 1\\ntheorem 14  2 is irrational\\nproof  let us assume to the contrary that 2 is rational\\nso we can find integers r and s ≠ 0 such that 2 \\nr\\ns\\n\\nsuppose r and s have a common factor other than 1 then we divide by the common\\nfactor to get 2 \\na\\nb\\n where a and b are coprime\\nso b 2  a\\nsquaring on both sides and rearranging we get 2b\\n2\\n  a\\n2\\n therefore 2 divides a\\n2\\n\\nnow by theorem 13 it follows that 2 divides a\\nso we can write a  2c for some integer c\\n not from the examination point of view\\n201920\\nreal numbers 13\\nsubstituting for a we get 2b\\n2\\n  4c\\n2\\n that is b\\n2\\n  2c\\n2\\n\\nthis means that 2 divides b\\n2\\n and so 2 divides b again using theorem 13 with p  2\\ntherefore a and b have at least 2 as a common factor\\nbut this contradicts the fact that a and b have no common factors other than 1\\nthis contradiction has arisen because of our incorrect assumption that 2 is rational\\nso we conclude that 2 is irrational\\nexample 9  prove that 3 is irrational\\nsolution  let us assume to the contrary that 3 is rational\\nthat is we can find integers a and b ≠ 0 such that 3 \\na\\nb\\n⋅\\nsuppose a and b have a common factor other than 1 then we can divide by the\\ncommon factor and assume that a and b are coprime\\nso b a 3  ⋅\\nsquaring on both sides and rearranging we get 3b\\n2\\n  a\\n2\\n\\ntherefore a\\n2\\n is divisible by 3 and by theorem 13 it follows that a is also divisible\\nby 3\\nso we can write a  3c for some integer c\\nsubstituting for a we get 3b\\n2\\n  9c\\n2\\n that is b\\n2\\n  3c\\n2\\n\\nthis means that b\\n2\\n is divisible by 3 and so b is also divisible by 3 using theorem 13\\nwith p  3\\ntherefore a and b have at least 3 as a common factor\\nbut this contradicts the fact that a and b are coprime\\nthis contradiction has arisen because of our incorrect assumption that 3 is rational\\nso we conclude that 3 is irrational\\nin class ix we mentioned that \\nl the sum or difference of a rational and an irrational number is irrational and\\nl the product and quotient of a nonzero rational and irrational number is\\nirrational\\nwe prove some particular cases here\\n201920\\n14 mathematics\\nexample 10  show that 5 – 3 is irrational\\nsolution  let us assume to the contrary that 5 – 3 is rational\\nthat is we can find coprime a and b b ≠ 0 such that 5 3 a\\nb\\n−  ⋅\\ntherefore 5 3 a\\nb\\n−  ⋅\\nrearranging this equation we get 5\\n3 5 – a b a\\nb b\\n−\\n  ⋅\\nsince a and b are integers we get 5 – a\\nb\\n is rational and so 3 is rational\\nbut this contradicts the fact that 3 is irrational\\nthis contradiction has arisen because of our incorrect assumption that 5 – 3 is\\nrational\\nso we conclude that 5 3 − is irrational\\nexample 11  show that 3 2 is irrational\\nsolution  let us assume to the contrary that 3 2 is rational\\nthat is we can find coprime a and b b ≠ 0 such that 3 2 a\\nb\\n ⋅\\nrearranging we get 2\\n3\\na\\nb\\n ⋅\\nsince 3 a and b are integers 3\\na\\nb\\n is rational and so 2 is rational\\nbut this contradicts the fact that 2 is irrational\\nso we conclude that 3 2 is irrational\\nexercise 13\\n1 prove that 5 is irrational\\n2 prove that 3 2 5  is irrational\\n3 prove that the following are irrationals \\ni 1\\n2\\nii 7 5 iii 6 2 \\n201920\\nreal numbers 15\\n15 revisiting rational numbers and their decimal expansions\\nin class ix you studied that rational numbers have either a terminating decimal\\nexpansion or a nonterminating repeating decimal expansion in this section we are\\ngoing to consider a rational number say  0 p\\nq\\nq\\n≠  and explore exactly when the\\ndecimal expansion of\\np\\nq\\n is terminating and when it is nonterminating repeating\\nor recurring we do so by considering several examples\\nlet us consider the following rational numbers \\ni 0375 ii 0104 iii 00875 iv 233408\\nnow i 3\\n375 375 0375\\n1000 10\\n  ii 3\\n104 104 0104\\n1000 10\\n \\niii 4\\n875 875 00875\\n10000 10\\n  iv 4\\n233408 233408 233408\\n10000 10\\n \\nas one would expect they can all be expressed as rational numbers whose\\ndenominators are powers of 10 let us try and cancel the common factors between\\nthe numerator and denominator and see what we get \\ni\\n3\\n3 3 3 3\\n375 3 5 3 0375\\n10 2 5 2\\n×\\n  \\n×\\nii\\n3\\n3 3 3 3\\n104 13 2 13 0104\\n10 2 5 5\\n×\\n  \\n×\\niii\\n4 4\\n875 7 00875\\n10 2 5\\n \\n×\\niv\\n2\\n4 4\\n233408 2 7 521 233408\\n10 5\\n× ×\\n \\ndo you see any pattern it appears that we have converted a real number\\nwhose decimal expansion terminates into a rational number of the form \\np\\nq\\n where p\\nand q are coprime and the prime factorisation of the denominator that is q has only\\npowers of 2 or powers of 5 or both we should expect the denominator to look like\\nthis since powers of 10 can only have powers of 2 and 5 as factors\\neven though we have worked only with a few examples you can see that any\\nreal number which has a decimal expansion that terminates can be expressed as a\\nrational number whose denominator is a power of 10 also the only prime factors of 10\\nare 2 and 5 so cancelling out the common factors between the numerator and the\\ndenominator we find that this real number is a rational number of the form \\np\\nq\\n where\\nthe prime factorisation of q is of the form 2n5\\nm\\n and n m are some nonnegative integers\\nlet us write our result formally\\n201920\\n16 mathematics\\ntheorem 15  let x be a rational number whose decimal expansion terminates\\nthen x can be expressed in the form \\np\\nq\\n where p and q are coprime and the\\nprime factorisation of q is of the form 2n5\\nm\\n where n m are nonnegative integers\\nyou are probably wondering what happens the other way round in theorem 15\\nthat is if we have a rational number of the form \\np\\nq\\n and the prime factorisation of q\\nis of the form 2n5\\nm\\n where n m are non negative integers then does p\\nq\\n have a\\nterminating decimal expansion\\nlet us see if there is some obvious reason why this is true you will surely agree\\nthat any rational number of the form \\na\\nb\\n where b is a power of 10 will have a terminating\\ndecimal expansion so it seems to make sense to convert a rational number of the\\nform p\\nq\\n where q is of the form 2n5\\nm\\n to an equivalent rational number of the form \\na\\nb\\nwhere b is a power of 10 let us go back to our examples above and work backwards\\ni\\n3\\n3 3 3 3\\n3 3 3 5 375 0375\\n8 2 2 5 10\\n×\\n   \\n×\\nii\\n3\\n3 3 3 3\\n13 13 13 2 104 0104\\n125 5 2 5 10\\n×\\n   \\n×\\niii\\n3\\n4 4 4 4\\n7 7 7 5 875 00875\\n80 2 5 2 5 10\\n×\\n   \\n× ×\\niv\\n2 6\\n4 4 4 4\\n14588 2 7 521 2 7 521 233408 233408\\n625 5 2 5 10\\n× × × ×\\n   \\n×\\nso these examples show us how we can convert a rational number of the form\\np\\nq\\n where q is of the form 2n5\\nm\\n to an equivalent rational number of the form \\na\\nb\\nwhere b is a power of 10 therefore the decimal expansion of such a rational number\\nterminates let us write down our result formally\\ntheorem 16  let x  p\\nq\\n be a rational number such that the prime factorisation\\nof q is of the form 2n5\\nm\\n where n m are nonnegative integers then x has a\\ndecimal expansion which terminates\\n201920\\nreal numbers 17\\nwe are now ready to move on to the rational numbers\\nwhose decimal expansions are nonterminating and recurring\\nonce again let us look at an example to see what is going on\\nwe refer to example 5 chapter 1 from your class ix\\ntextbook namely\\n1\\n7\\n here remainders are 3 2 6 4 5 1 3\\n2 6 4 5 1    and divisor is 7\\nnotice that the denominator here ie 7 is clearly not of\\nthe form 2n5\\nm\\n therefore from theorems 15 and 16 we\\nknow that\\n1\\n7\\n will not have a terminating decimal expansion\\nhence 0 will not show up as a remainder why and the\\nremainders will start repeating after a certain stage so we\\nwill have a block of digits namely 142857 repeating in the\\nquotient of\\n1\\n7\\n\\nwhat we have seen in the case of\\n1\\n7\\n is true for any rational number not covered\\nby theorems 15 and 16 for such numbers we have \\ntheorem 17  let x \\np\\nq\\n where p and q are coprimes be a rational number\\nsuch that the prime factorisation of q is not of the form 2n5\\nm\\n where n m are\\nnonnegative integers then x has a decimal expansion which is nonterminating\\nrepeating recurring\\nfrom the discussion above we can conclude that the decimal expansion of\\nevery rational number is either terminating or nonterminating repeating\\nexercise 14\\n1 without actually performing the long division state whether the following rational\\nnumbers will have a terminating decimal expansion or a nonterminating repeating decimal\\nexpansion\\ni\\n13\\n3125 ii\\n17\\n8\\niii\\n64\\n455 iv\\n15\\n1600\\nv\\n29\\n343 vi 3 2\\n23\\n2 5\\nvii 2 7 5\\n129\\n2 5 7\\nviii\\n6\\n15\\nix\\n35\\n50 x\\n77\\n210\\n7 10\\n7\\n3 0\\n28\\n2 0\\n14\\n6 0\\n56\\n4 0\\n35\\n5 0\\n49\\n1 0\\n7\\n3 0\\n01428571\\n201920\\n18 mathematics\\n2 write down the decimal expansions of those rational numbers in question 1 above\\nwhich have terminating decimal expansions\\n3 the following real numbers have decimal expansions as given below in each case\\ndecide whether they are rational or not if they are rational and of the form \\np\\nq\\n what can\\nyou say about the prime factors of q\\ni 43123456789 ii 0120120012000120000   iii 43123456789\\n16 summary\\nin this chapter you have studied the following points\\n1 euclid’s division lemma \\ngiven positive integers a and b there exist whole numbers q and r satisfying a  bq  r\\n0 ≤ r  b\\n2 euclid’s division algorithm  this is based on euclid’s division lemma according to this\\nthe hcf of any two positive integers a and b with a  b is obtained as follows\\nstep 1  apply the division lemma to find q and r where a  bq  r 0 ≤ r  b\\nstep 2  if r  0 the hcf is b if r ≠ 0 apply euclid’s lemma to b and r\\nstep 3  continue the process till the remainder is zero the divisor at this stage will be\\nhcf a b also hcfa b  hcfb r\\n3 the fundamental theorem of arithmetic \\nevery composite number can be expressed factorised as a product of primes and this\\nfactorisation is unique apart from the order in which the prime factors occur\\n4 if p is a prime and p divides a\\n2\\n then p divides a where a is a positive integer\\n5 to prove that 2 3 are irrationals\\n6 let x be a rational number whose decimal expansion terminates then we can express x\\nin the form p\\nq\\n where p and q are coprime and the prime factorisation of q is of the form\\n2\\nn5\\nm\\n where n m are nonnegative integers\\n7 let x \\np\\nq\\n be a rational number such that the prime factorisation of q is of the form 2n5\\nm\\n\\nwhere n m are nonnegative integers then x has a decimal expansion which terminates\\n8 let x \\np\\nq\\n be a rational number such that the prime factorisation of q is not of the form\\n2\\nn 5\\nm\\n where n m are nonnegative integers then x has a decimal expansion which is\\nnonterminating repeating recurring\\n201920\\nreal numbers 19\\na note to the reader\\nyou have seen that \\nhcf  p q r × lcm p q r ≠ p × q × r where p q r are positive integers\\nsee example 8 however the following results hold good for three numbers\\np q and r \\nlcm p q r \\nhcf   \\nhcf   hcf   hcf  \\np q r p q r\\np q q r p r\\n⋅ ⋅ ⋅\\n⋅ ⋅\\nhcf p q r \\nlcm   \\nlcm   lcm   lcm  \\np q r p q r\\np q q r p r\\n⋅ ⋅ ⋅\\n⋅ ⋅\\n201920'"
            ]
          },
          "metadata": {
            "tags": []
          },
          "execution_count": 19
        }
      ]
    },
    {
      "cell_type": "code",
      "metadata": {
        "id": "T6dBkIjdjs7H",
        "colab_type": "code",
        "colab": {}
      },
      "source": [
        "def normalize(text):\n",
        "  remove_punct_dict = dict((ord(punct),None) for punct in string.punctuation)\n",
        "  word_token = nltk.word_tokenize(raw.translate(remove_punct_dict))\n",
        "  #remove ascii\n",
        "  new_words = []\n",
        "  for word in word_token:\n",
        "      new_word = unicodedata.normalize('NFKD', word).encode('ascii', 'ignore').decode('utf-8', 'ignore')\n",
        "      new_words.append(new_word)\n",
        "  #Remove tags\n",
        "  rmv = []\n",
        "  for w in new_words:\n",
        "      text=re.sub(\"&lt;/?.*?&gt;\",\"&lt;&gt;\",w)\n",
        "      rmv.append(text)\n",
        "  #pos tagging and lemmatization\n",
        "  tag_map = defaultdict(lambda : wn.NOUN)\n",
        "  tag_map['J'] = wn.ADJ\n",
        "  tag_map['V'] = wn.VERB\n",
        "  tag_map['R'] = wn.ADV\n",
        "  lmtzr = WordNetLemmatizer()\n",
        "  lemma_list = []\n",
        "  rmv = [i for i in rmv if i]\n",
        "  for token, tag in nltk.pos_tag(rmv):\n",
        "      lemma = lmtzr.lemmatize(token, tag_map[tag[0]])\n",
        "      lemma_list.append(lemma)\n",
        "  return lemma_list"
      ],
      "execution_count": 0,
      "outputs": []
    },
    {
      "cell_type": "code",
      "metadata": {
        "id": "T_zesVQHl9pu",
        "colab_type": "code",
        "colab": {}
      },
      "source": [
        "welcome_input = (\"hello\", \"hi\", \"greetings\", \"sup\", \"what's up\",\"hey\",)\n",
        "welcome_response = [\"hi\", \"hey\", \"*nods*\", \"hi there\", \"hello\", \"I am glad! You are talking to me\"]\n",
        "def welcome(user_response):\n",
        "    for word in user_response.split():\n",
        "        if word.lower() in welcome_input:\n",
        "            return random.choice(welcome_response)"
      ],
      "execution_count": 0,
      "outputs": []
    },
    {
      "cell_type": "code",
      "metadata": {
        "id": "kQIZIf_ImJfv",
        "colab_type": "code",
        "colab": {}
      },
      "source": [
        "def generateResponse(user_response):\n",
        "    robo_response=''\n",
        "    sent_tokens.append(user_response)\n",
        "    TfidfVec = TfidfVectorizer(stop_words='english')\n",
        "    tfidf = TfidfVec.fit_transform(sent_tokens)\n",
        "    #vals = cosine_similarity(tfidf[-1], tfidf)\n",
        "    vals = linear_kernel(tfidf[-1], tfidf)\n",
        "    idx=vals.argsort()[0][-2]\n",
        "    flat = vals.flatten()\n",
        "    flat.sort()\n",
        "    req_tfidf = flat[-2]\n",
        "    if(req_tfidf==0) or \"tell me about\" in user_response:\n",
        "        print(\"Checking Wikipedia\")\n",
        "        if user_response:\n",
        "            robo_response = wikipedia_data(user_response)\n",
        "            return robo_response\n",
        "    else:\n",
        "        robo_response = robo_response+sent_tokens[idx]\n",
        "        return robo_response\n",
        "#wikipedia search\n",
        "def wikipedia_data(input):\n",
        "    reg_ex = re.search('tell me about (.*)', input)\n",
        "    try:\n",
        "        if reg_ex:\n",
        "            topic = reg_ex.group(1)\n",
        "            wiki = wk.summary(topic, sentences = 3)\n",
        "            return wiki\n",
        "    except Exception as e:\n",
        "            print(\"No content has been found\")"
      ],
      "execution_count": 0,
      "outputs": []
    },
    {
      "cell_type": "code",
      "metadata": {
        "id": "icymJ_tanXEL",
        "colab_type": "code",
        "colab": {
          "base_uri": "https://localhost:8080/",
          "height": 679
        },
        "outputId": "deb9a2ab-dab5-4e81-8828-6be4595f6194"
      },
      "source": [
        "flag=True\n",
        "print(\"My name is Chatterbot and I'm a chatbot. If you want to exit, type Bye!\")\n",
        "while(flag==True):\n",
        "    user_response = input()\n",
        "    user_response=user_response.lower()\n",
        "    if(user_response not in ['bye','shutdown','exit', 'quit']):\n",
        "        if(user_response=='thanks' or user_response=='thank you' ):\n",
        "            flag=False\n",
        "            print(\"Chatterbot : You are welcome..\")\n",
        "        else:\n",
        "            if(welcome(user_response)!=None):\n",
        "                print(\"Chatterbot : \"+welcome(user_response))\n",
        "            else:\n",
        "                print(\"Chatterbot : \",end=\"\")\n",
        "                print(generateResponse(user_response))\n",
        "                sent_tokens.remove(user_response)\n",
        "    else:\n",
        "        flag=False\n",
        "        print(\"Chatterbot : Bye!!! \")"
      ],
      "execution_count": 26,
      "outputs": [
        {
          "output_type": "stream",
          "text": [
            "My name is Chatterbot and I'm a chatbot. If you want to exit, type Bye!\n",
            "hi\n",
            "Chatterbot : I am glad! You are talking to me\n",
            "what is real number?\n",
            "Chatterbot : even though, we have worked only with a few examples, you can see that any\n",
            "real number which has a decimal expansion that terminates can be expressed as a\n",
            "rational number whose denominator is a power of 10. also the only prime factors of 10\n",
            "are 2 and 5. so, cancelling out the common factors between the numerator and the\n",
            "denominator, we find that this real number is a rational number of the form ,\n",
            "p\n",
            "q\n",
            " where\n",
            "the prime factorisation of q is of the form 2n5\n",
            "m\n",
            ", and n, m are some non-negative integers.\n",
            "real number\n",
            "Chatterbot : even though, we have worked only with a few examples, you can see that any\n",
            "real number which has a decimal expansion that terminates can be expressed as a\n",
            "rational number whose denominator is a power of 10. also the only prime factors of 10\n",
            "are 2 and 5. so, cancelling out the common factors between the numerator and the\n",
            "denominator, we find that this real number is a rational number of the form ,\n",
            "p\n",
            "q\n",
            " where\n",
            "the prime factorisation of q is of the form 2n5\n",
            "m\n",
            ", and n, m are some non-negative integers.\n",
            "Euclid’s Division Lemma\n",
            "Chatterbot : 2. euclid’s division algorithm : this is based on euclid’s division lemma.\n",
            "real number example\n",
            "Chatterbot : example 5 : consider the numbers 4n\n",
            ", where n is a natural number.\n",
            "tell me about real number\n",
            "Chatterbot : Checking Wikipedia\n",
            "In mathematics, a real number is a value of a continuous quantity that can represent a distance along a line. The adjective real in this context was introduced in the 17th century by René Descartes, who distinguished between real and imaginary roots of polynomials. The real numbers include all the rational numbers, such as the integer −5 and the fraction 4/3, and all the irrational numbers, such as √2 (1.41421356..., the square root of 2, an irrational algebraic number).\n",
            "exit\n",
            "Chatterbot : Bye!!! \n"
          ],
          "name": "stdout"
        }
      ]
    }
  ]
}