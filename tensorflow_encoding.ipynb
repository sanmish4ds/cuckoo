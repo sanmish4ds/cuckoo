{
  "nbformat": 4,
  "nbformat_minor": 0,
  "metadata": {
    "colab": {
      "name": "tensorflow_encoding.ipynb",
      "provenance": [],
      "collapsed_sections": [],
      "authorship_tag": "ABX9TyO9wHuqHIAvAIuZdTxnPf8M",
      "include_colab_link": true
    },
    "kernelspec": {
      "name": "python3",
      "display_name": "Python 3"
    }
  },
  "cells": [
    {
      "cell_type": "markdown",
      "metadata": {
        "id": "view-in-github",
        "colab_type": "text"
      },
      "source": [
        "<a href=\"https://colab.research.google.com/github/sanmish4ds/cuckoo/blob/master/tensorflow_encoding.ipynb\" target=\"_parent\"><img src=\"https://colab.research.google.com/assets/colab-badge.svg\" alt=\"Open In Colab\"/></a>"
      ]
    },
    {
      "cell_type": "code",
      "metadata": {
        "id": "nlJRL0W0zXDT",
        "colab_type": "code",
        "colab": {}
      },
      "source": [
        "import tensorflow as tf\n",
        "from tensorflow import keras\n",
        "from tensorflow.keras.preprocessing.text import Tokenizer\n",
        "from tensorflow.keras.preprocessing.sequence import pad_sequences\n",
        "\n"
      ],
      "execution_count": 0,
      "outputs": []
    },
    {
      "cell_type": "code",
      "metadata": {
        "id": "kjnF6Krdz8S8",
        "colab_type": "code",
        "colab": {
          "base_uri": "https://localhost:8080/",
          "height": 141
        },
        "outputId": "d5380b9c-ea08-4c7d-9d01-5121998f0106"
      },
      "source": [
        "sentence = [\"I love my country\", \"My country name is India\",\"my world is very big\",\"I am trying to learn new things\"]\n",
        "tokenizer = Tokenizer(num_words=100,oov_token=\"<oov>\")\n",
        "tokenizer.fit_on_texts(sentence)\n",
        "wordindex = tokenizer.word_index\n",
        "sequences = tokenizer.texts_to_sequences(sentence)\n",
        "pad = pad_sequences(sequences,padding='post',maxlen=5,truncating='post' )\n",
        "print(wordindex)\n",
        "print(sequences)\n",
        "print(pad)"
      ],
      "execution_count": 17,
      "outputs": [
        {
          "output_type": "stream",
          "text": [
            "{'<oov>': 1, 'my': 2, 'i': 3, 'country': 4, 'is': 5, 'love': 6, 'name': 7, 'india': 8, 'world': 9, 'very': 10, 'big': 11, 'am': 12, 'trying': 13, 'to': 14, 'learn': 15, 'new': 16, 'things': 17}\n",
            "[[3, 6, 2, 4], [2, 4, 7, 5, 8], [2, 9, 5, 10, 11], [3, 12, 13, 14, 15, 16, 17]]\n",
            "[[ 3  6  2  4  0]\n",
            " [ 2  4  7  5  8]\n",
            " [ 2  9  5 10 11]\n",
            " [ 3 12 13 14 15]]\n"
          ],
          "name": "stdout"
        }
      ]
    }
  ]
}