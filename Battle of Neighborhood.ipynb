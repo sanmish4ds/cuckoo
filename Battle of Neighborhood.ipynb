{
    "cells": [
        {
            "metadata": {
                "collapsed": true
            },
            "cell_type": "markdown",
            "source": "**The challenge is to find a suitable apartment for rent in Manhattan NY that complies with the demands on location, price and venues. The data required to resolve this challenge is described in the following section 2, below.**\n***Toronto's Census data in publicly available at this website: https://www.toronto.ca/city-government/data-research-maps/open-data/open-data-catalogue/#8c732154-5012-9afe-d0cd-ba3ffc813d5a***"
        },
        {
            "metadata": {},
            "cell_type": "code",
            "source": "import numpy as np # library to handle data in a vectorized manner\n\nimport pandas as pd # library for data analsysis\npd.set_option('display.max_columns', None)\npd.set_option('display.max_rows', None)\n\n!conda install -c conda-forge geopy --yes # uncomment this line if you haven't completed the Foursquare API lab\nfrom geopy.geocoders import Nominatim # convert an address into latitude and longitude values\n\n!conda install -c conda-forge folium=0.5.0 --yes # uncomment this line if you haven't completed the Foursquare API lab\nimport folium # map rendering library\n\nprint('Libraries imported.')",
            "execution_count": 1,
            "outputs": [
                {
                    "output_type": "stream",
                    "text": "Solving environment: done\n\n## Package Plan ##\n\n  environment location: /opt/conda/envs/Python36\n\n  added / updated specs: \n    - geopy\n\n\nThe following packages will be downloaded:\n\n    package                    |            build\n    ---------------------------|-----------------\n    geographiclib-1.50         |             py_0          34 KB  conda-forge\n    geopy-1.21.0               |             py_0          58 KB  conda-forge\n    ca-certificates-2019.11.28 |       hecc5488_0         145 KB  conda-forge\n    openssl-1.1.1d             |       h516909a_0         2.1 MB  conda-forge\n    certifi-2019.11.28         |           py36_0         149 KB  conda-forge\n    ------------------------------------------------------------\n                                           Total:         2.5 MB\n\nThe following NEW packages will be INSTALLED:\n\n    geographiclib:   1.50-py_0         conda-forge\n    geopy:           1.21.0-py_0       conda-forge\n\nThe following packages will be UPDATED:\n\n    ca-certificates: 2019.11.27-0                  --> 2019.11.28-hecc5488_0 conda-forge\n    certifi:         2019.11.28-py36_0             --> 2019.11.28-py36_0     conda-forge\n\nThe following packages will be DOWNGRADED:\n\n    openssl:         1.1.1d-h7b6447c_3             --> 1.1.1d-h516909a_0     conda-forge\n\n\nDownloading and Extracting Packages\ngeographiclib-1.50   | 34 KB     | ##################################### | 100% \ngeopy-1.21.0         | 58 KB     | ##################################### | 100% \nca-certificates-2019 | 145 KB    | ##################################### | 100% \nopenssl-1.1.1d       | 2.1 MB    | ##################################### | 100% \ncertifi-2019.11.28   | 149 KB    | ##################################### | 100% \nPreparing transaction: done\nVerifying transaction: done\nExecuting transaction: done\nSolving environment: done\n\n## Package Plan ##\n\n  environment location: /opt/conda/envs/Python36\n\n  added / updated specs: \n    - folium=0.5.0\n\n\nThe following packages will be downloaded:\n\n    package                    |            build\n    ---------------------------|-----------------\n    vincent-0.4.4              |             py_1          28 KB  conda-forge\n    altair-4.0.1               |             py_0         575 KB  conda-forge\n    folium-0.5.0               |             py_0          45 KB  conda-forge\n    branca-0.3.1               |             py_0          25 KB  conda-forge\n    ------------------------------------------------------------\n                                           Total:         673 KB\n\nThe following NEW packages will be INSTALLED:\n\n    altair:  4.0.1-py_0 conda-forge\n    branca:  0.3.1-py_0 conda-forge\n    folium:  0.5.0-py_0 conda-forge\n    vincent: 0.4.4-py_1 conda-forge\n\n\nDownloading and Extracting Packages\nvincent-0.4.4        | 28 KB     | ##################################### | 100% \naltair-4.0.1         | 575 KB    | ##################################### | 100% \nfolium-0.5.0         | 45 KB     | ##################################### | 100% \nbranca-0.3.1         | 25 KB     | ##################################### | 100% \nPreparing transaction: done\nVerifying transaction: done\nExecuting transaction: done\nLibraries imported.\n",
                    "name": "stdout"
                }
            ]
        },
        {
            "metadata": {},
            "cell_type": "markdown",
            "source": "### Introduction & Business Problem :"
        },
        {
            "metadata": {},
            "cell_type": "markdown",
            "source": "The City of New York, is the most populous city in the United States. It is diverse and is the financial capital of USA. It is multicultural. It provides lot of business oppourtunities and business friendly environment. It has attracted many different players into the market. It is a global hub of business and commerce. The city is a major center for banking and finance, retailing, world trade, transportation, tourism, real estate, new media, traditional media, advertising, legal services, accountancy, insurance, theater, fashion, and the arts in the United States.<br>This also means that the market is highly competitive. As it is highly developed city so cost of doing business is also one of the highest.<br>Thus, any new business venture or expansion needs to be analysed carefully. The insights derived from analysis will give good understanding <br>of the business environment which help in strategically targeting the market. This will help in reduction of risk. And the Return on Investment will be reasonable."
        },
        {
            "metadata": {},
            "cell_type": "markdown",
            "source": "###  Problem Description:"
        },
        {
            "metadata": {},
            "cell_type": "markdown",
            "source": "A restaurant is a business which prepares and serves food and drink to customers in return for money, either paid before the meal, after the meal, or with an open account. The City of New York is famous for its excelllent cuisine. It's food culture includes an array of international cuisines influenced by the city's immigrant history.<Br> 1. Central and Eastern European immigrants, especially Jewish immigrants - bagels, cheesecake, hot dogs, knishes, and delicatessens<Br> 2. Italian immigrants - New York-style pizza and Italian cuisine<Br>3. Jewish immigrants and Irish immigrants - pastrami and corned beef<Br>4. Chinese and other Asian restaurants, sandwich joints, trattorias, diners, and coffeehouses are ubiquitous throughout the city<Br>5. mobile food vendors - Some 4,000 licensed by the city<Br>6. Middle Eastern foods such as falafel and kebabs examples of modern New York street food<Br>7. It is famous for not just Pizzerias, Cafe's but also for fine dining Michelin starred restaurants.The city is home to \\\"nearly one thousand of the finest and most diverse haute cuisine restaurants in the world\\\", according to Michelin. So it is evident that to survive in such competitive market it is very important to startegically plan. Various factors need to be studied inorder to decide on the Location such as : <Br>1. New York Population <Br>2. New York City Demographics <Br>2. Are there any Farmers Markets, Wholesale markets etc nearby so that the ingredients can be purchased fresh to maintain quality and cost?<Br>3. Are there any venues like Gyms, Entertainmnet zones, Parks etc nearby where floating population is high etc <Br>4. Who are the competitors in that location? <Br> 5. Cuisine served / Menu of the competitors <Br>6. Segmentation of the Borough <Br>7. Untapped markets <Br>8. Saturated markets etc<Br>The list can go on...    Eventhough well funded XYZ Company Ltd. need to choose the correct location to start its first venture.If this is successful they can replicate the same in other locations. First move is very important, thereby choice of location is very important."
        },
        {
            "metadata": {},
            "cell_type": "markdown",
            "source": "### Target Audience:"
        },
        {
            "metadata": {},
            "cell_type": "markdown",
            "source": "To recommend the correct location, XYZ Company Ltd has appointed me to lead of the Data Science team. The objective is to locate and recommend to the management which neighborhood of Newyork city will be best choice to start a restaurant. The Management also expects to understand the rationale of the recommendations made.<br>This would interest anyone who wants to start a new restaurant in Newyork city."
        },
        {
            "metadata": {},
            "cell_type": "markdown",
            "source": "###  Desired Result:"
        },
        {
            "metadata": {},
            "cell_type": "markdown",
            "source": "The desired result of the project will be a good recommendation of borough/Neighborhood choice to XYZ Company Ltd based on Lack of such restaurants in that location and nearest suppliers of ingredients."
        },
        {
            "metadata": {},
            "cell_type": "markdown",
            "source": "### Data :"
        },
        {
            "metadata": {},
            "cell_type": "markdown",
            "source": "One city will be analysed in this project : ***Newyork City***. <br><br>We will be using the below datasets for analysing Newyork city"
        },
        {
            "metadata": {},
            "cell_type": "markdown",
            "source": "***Data 1 :*** <br>Neighborhood has a total of 5 boroughs and 306 neighborhoods. In order to segement the neighborhoods and explore them, we will essentially need a dataset that contains the 5 boroughs and the neighborhoods that exist in each borough as well as the the latitude and logitude coordinates of each neighborhood.<br><br>This dataset exists for free on the web. Link to the dataset is : https://geo.nyu.edu/catalog/nyu_2451_34572"
        },
        {
            "metadata": {},
            "cell_type": "markdown",
            "source": "***Data 2 :*** Second data which will be used is the DOHMH Farmers Markets and Food Boxes dataset. In this we will be using the data of Farmers Markets.<br><br>https://data.cityofnewyork.us/dataset/DOHMH-Farmers-Markets-and-Food-Boxes/8vwk-6iz2<br><br>Website-https://www.grownyc.org/greenmarketco/foodbox <Br><br>GrowNYC's Fresh ***Food Box*** Program is a food access initiative that enables under-served communities to purchase fresh, healthy, and primarily regionally grown produce well below traditional retail prices.<br>    <br>A ***farmers' market*** is often defined as a public site used by two or more local or regional producers for the direct sale of farm products to consumers. In addition to fresh fruits and vegetables, markets may sell dairy products, fish, meat, baked goods, and other minimally processed foods."
        },
        {
            "metadata": {},
            "cell_type": "markdown",
            "source": "***Data 3 :*** For the below analysis we will get data from wikipedia as given below : <Br><br>1. New York Population <Br><br>2. New York City Demographics <Br><br>3. Cuisine of New York city <Br><br>    <br>https://en.wikipedia.org/wiki/New_York_City <Br><br>https://en.wikipedia.org/wiki/Economy_of_New_York_City <Br><br>https://en.wikipedia.org/wiki/Portal:New_York_City <Br><br>https://en.wikipedia.org/wiki/Cuisine_of_New_York_City <Br><br>https://en.wikipedia.org/wiki/List_of_Michelin_starred_restaurants_in_New_York_City"
        },
        {
            "metadata": {},
            "cell_type": "markdown",
            "source": "***Data 4 :*** Newyork city geographical coordinates data will be utilized as input for the Foursquare API, that will be leveraged to provision venues information for each neighborhood.We will use the Foursquare API to explore neighborhoods in New York City."
        },
        {
            "metadata": {},
            "cell_type": "code",
            "source": "",
            "execution_count": null,
            "outputs": []
        }
    ],
    "metadata": {
        "kernelspec": {
            "name": "python3",
            "display_name": "Python 3.6",
            "language": "python"
        },
        "language_info": {
            "name": "python",
            "version": "3.6.9",
            "mimetype": "text/x-python",
            "codemirror_mode": {
                "name": "ipython",
                "version": 3
            },
            "pygments_lexer": "ipython3",
            "nbconvert_exporter": "python",
            "file_extension": ".py"
        }
    },
    "nbformat": 4,
    "nbformat_minor": 1
}